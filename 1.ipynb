{
 "cells": [
  {
   "cell_type": "code",
   "execution_count": 97,
   "metadata": {},
   "outputs": [],
   "source": [
    "import sys\n",
    "import warnings\n",
    "import numpy as np\n",
    "\n",
    "from hmmlearn import hmm\n",
    "from matplotlib import pyplot as plt\n",
    "\n",
    "warnings.filterwarnings('ignore')\n",
    "np.set_printoptions(threshold=sys.maxsize)"
   ]
  },
  {
   "cell_type": "code",
   "execution_count": 98,
   "metadata": {},
   "outputs": [],
   "source": [
    "data = np.load('rolls.npy')\n",
    "split = data.shape[0] // 2\n",
    "train = data[:split]\n",
    "valid = data[split:]"
   ]
  },
  {
   "cell_type": "code",
   "execution_count": 99,
   "metadata": {},
   "outputs": [
    {
     "name": "stdout",
     "output_type": "stream",
     "text": [
      "Model: 1 Validation Score: -43180.11644585321\n",
      "Model: 2 Validation Score: -43181.541049622145\n",
      "Model: 3 Validation Score: -43183.20545663208\n",
      "Model: 4 Validation Score: -43170.50902764051\n",
      "Model: 5 Validation Score: -43172.524149435136\n",
      "Model: 6 Validation Score: -43173.9461426386\n",
      "Model: 7 Validation Score: -43177.36617312531\n",
      "Model: 8 Validation Score: -43183.65143688766\n",
      "Model: 9 Validation Score: -43175.36586823447\n",
      "Model: 10 Validation Score: -43182.55579949965\n",
      "Model: 11 Validation Score: -43181.86961663509\n",
      "Model: 12 Validation Score: -43146.834337883825\n",
      "Model: 13 Validation Score: -43182.53761031166\n",
      "Model: 14 Validation Score: -43183.23603582081\n",
      "Model: 15 Validation Score: -43177.45841350843\n",
      "Model: 16 Validation Score: -43178.00584525484\n",
      "Model: 17 Validation Score: -43167.36029423734\n",
      "Model: 18 Validation Score: -43177.95715443517\n",
      "Model: 19 Validation Score: -43183.267129760694\n",
      "Model: 20 Validation Score: -43182.509473396654\n",
      "Model: 21 Validation Score: -43178.79078422317\n",
      "Model: 22 Validation Score: -43184.434635881546\n",
      "Model: 23 Validation Score: -43181.40226815932\n",
      "Model: 24 Validation Score: -43159.18824547526\n",
      "Model: 25 Validation Score: -43182.43520210627\n",
      "Model: 26 Validation Score: -43183.02058871322\n",
      "Model: 27 Validation Score: -43183.00516934413\n",
      "Model: 28 Validation Score: -43152.66526667592\n",
      "Model: 29 Validation Score: -43168.17952277102\n",
      "Model: 30 Validation Score: -43177.42435829329\n",
      "Model: 31 Validation Score: -43184.396595046775\n",
      "Model: 32 Validation Score: -43179.72775023339\n",
      "Model: 33 Validation Score: -43184.29261395591\n",
      "Model: 34 Validation Score: -43183.81768816511\n",
      "Model: 35 Validation Score: -43183.5822295453\n",
      "Model: 36 Validation Score: -43183.09577915961\n",
      "Model: 37 Validation Score: -43162.409954677896\n",
      "Model: 38 Validation Score: -43181.44954503852\n",
      "Model: 39 Validation Score: -43182.438929472904\n",
      "Model: 40 Validation Score: -43183.7245013693\n",
      "Model: 41 Validation Score: -43182.921456261036\n",
      "Model: 42 Validation Score: -43181.67685251026\n",
      "Model: 43 Validation Score: -43175.83762834004\n",
      "Model: 44 Validation Score: -43163.26448169229\n",
      "Model: 45 Validation Score: -43182.68161793797\n",
      "Model: 46 Validation Score: -43182.32670151738\n",
      "Model: 47 Validation Score: -43164.44480626935\n",
      "Model: 48 Validation Score: -43182.39875433616\n",
      "Model: 49 Validation Score: -43182.63897176449\n",
      "Model: 50 Validation Score: -43179.63472236787\n",
      "Best model\n",
      " Initial Emission Probabilities: [[0.16666667 0.16666667 0.16666667 0.16666667 0.16666667 0.16666667]\n",
      " [0.01722285 0.36060654 0.15718997 0.06826511 0.35877435 0.03794118]] Validation Score: -43146.834337883825\n"
     ]
    }
   ],
   "source": [
    "start_probs = np.array([1.0, 0.0])\n",
    "probabilities = [\n",
    "    [0.5, 0.1, 0.1, 0.1, 0.1, 0.1],\n",
    "    [0.1, 0.3, 0.3, 0.1, 0.1, 0.1],\n",
    "    [0.1, 0.1, 0.1, 0.4, 0.2, 0.1],\n",
    "]\n",
    "\n",
    "np.random.seed(13)\n",
    "probabilities = np.random.dirichlet(np.ones(6), size=50)\n",
    "\n",
    "best_probs = None\n",
    "best_score = None\n",
    "best_model = None\n",
    "for i, probs in enumerate(probabilities):\n",
    "    temp = [1/6]*6\n",
    "    emission_probs = np.array([temp, probs])\n",
    "    model = hmm.CategoricalHMM(n_components=2, random_state=13)\n",
    "    model.init_params = 't'\n",
    "    model.startprob_ = start_probs\n",
    "    model.emissionprob_ = emission_probs\n",
    "    \n",
    "    model.fit(train)\n",
    "    score = model.score(valid)\n",
    "    # print('Emission Probabilities: {}, Validation Score: {}'.format(emission_probs, score))\n",
    "    print('Model: {} Validation Score: {}'.format(1+i, score))\n",
    "    if best_score is None or score > best_score:\n",
    "        best_score = score\n",
    "        best_model = model\n",
    "        best_probs = emission_probs\n",
    "\n",
    "print('Best model\\n Initial Emission Probabilities: {} Validation Score: {}'.format(emission_probs, best_score))"
   ]
  },
  {
   "cell_type": "code",
   "execution_count": 100,
   "metadata": {},
   "outputs": [
    {
     "name": "stdout",
     "output_type": "stream",
     "text": [
      "[[0.644 0.356]\n",
      " [0.549 0.451]]\n"
     ]
    }
   ],
   "source": [
    "# Most likely sequence of switching between fair dice and loaded dice -- Transition matrix\n",
    "print(best_model.transmat_.round(3))"
   ]
  },
  {
   "cell_type": "code",
   "execution_count": 101,
   "metadata": {},
   "outputs": [
    {
     "data": {
      "image/png": "[encoded data removed]",
      "text/plain": [
       "<Figure size 1000x600 with 1 Axes>"
      ]
     },
     "metadata": {},
     "output_type": "display_data"
    }
   ],
   "source": [
    "# Plot the generated states\n",
    "states = best_model.predict(valid)\n",
    "plt.figure(figsize=(10, 6))\n",
    "plt.plot(states, label='Predicted States')\n",
    "plt.xlabel('Time step')\n",
    "plt.ylabel('Hidden State')\n",
    "plt.title('Predicted Hidden States by HMM')\n",
    "plt.legend()\n",
    "plt.show()"
   ]
  },
  {
   "cell_type": "markdown",
   "metadata": {},
   "source": [
    "- The task 3.4.2 corressponds to decoding problem in HMM as we are predicting the hidden states on validation set and printing the most likely sequence i.e. transition matrix."
   ]
  },
  {
   "cell_type": "code",
   "execution_count": 102,
   "metadata": {},
   "outputs": [
    {
     "name": "stdout",
     "output_type": "stream",
     "text": [
      "Switches from fair to loaded dice: 4472\n",
      "Switches from loaded to fair dice: 4472\n"
     ]
    }
   ],
   "source": [
    "# Switch between the fair and loaded dice\n",
    "ftol, ltof = 0, 0\n",
    "prev = states[0]\n",
    "for curr in states[1:]:\n",
    "    if prev == 0 and curr == 1:\n",
    "        ftol += 1\n",
    "    if prev == 1 and curr == 0:\n",
    "        ltof += 1\n",
    "    prev = curr\n",
    "\n",
    "print(f'Switches from fair to loaded dice: {ftol}')\n",
    "print(f'Switches from loaded to fair dice: {ltof}')"
   ]
  },
  {
   "cell_type": "markdown",
   "metadata": {},
   "source": [
    "- The task 3.4.3 corresponds to learning problem in HMM as we are finding how often there is a transition."
   ]
  },
  {
   "cell_type": "code",
   "execution_count": 103,
   "metadata": {},
   "outputs": [
    {
     "name": "stdout",
     "output_type": "stream",
     "text": [
      "[[0.144 0.111 0.051 0.081 0.145 0.469]\n",
      " [0.129 0.179 0.274 0.221 0.132 0.065]]\n"
     ]
    }
   ],
   "source": [
    "# Bias of the loaded dice\n",
    "print(best_model.emissionprob_.round(3))"
   ]
  },
  {
   "cell_type": "markdown",
   "metadata": {},
   "source": [
    "- From the emission probabilities, the loaded dice is biased towards the outcome 3 and against the outcome 6.\n",
    "- The task 3.4.4 corresponds to learning problem in HMM as we are finding the bias of the loaded dice."
   ]
  },
  {
   "cell_type": "code",
   "execution_count": 104,
   "metadata": {},
   "outputs": [
    {
     "name": "stdout",
     "output_type": "stream",
     "text": [
      "Best Score: -50998.50187692316\n",
      "Transition Matrix: \n",
      " [[0.664 0.336]\n",
      " [0.281 0.719]]\n",
      "Emission Probabilities: \n",
      " [[0.114 0.291 0.264 0.06  0.199 0.    0.072]\n",
      " [0.135 0.125 0.104 0.038 0.3   0.    0.298]]\n",
      "Start Probabilities: \n",
      " [0.916 0.084]\n",
      "First ball Player: Virat\n",
      "Last ball Player: Rohit\n"
     ]
    }
   ],
   "source": [
    "# Task 3.4\n",
    "data = np.load('runs.npy')\n",
    "\n",
    "# Virat - Rohit\n",
    "start_probs = np.array([0.5, 0.5])\n",
    "trans_probs = np.array([[0.7, 0.3], [0.3, 0.7]])\n",
    "emission_probs = np.array([[0.1, 0.3, 0.25, 0.1, 0.2, 0.0, 0.05], [0.2, 0.15, 0.1, 0.05, 0.25, 0.0, 0.25]])\n",
    "\n",
    "num = 50\n",
    "best_score = None\n",
    "best_model = None\n",
    "for idx in range(num):\n",
    "    model = hmm.CategoricalHMM(n_components=2, init_params='')\n",
    "    model.startprob_ = start_probs\n",
    "    model.transmat_ = trans_probs\n",
    "    model.emissionprob_ = emission_probs\n",
    "\n",
    "    model.fit(data)\n",
    "    score = model.score(data)\n",
    "    if best_score is None or score > best_score:\n",
    "        best_score = score\n",
    "        best_model = model\n",
    "\n",
    "states = best_model.predict(data)\n",
    "print(f'Best Score: {best_score}')\n",
    "print('Transition Matrix: \\n', best_model.transmat_.round(3))\n",
    "print('Emission Probabilities: \\n', best_model.emissionprob_.round(3))\n",
    "print('Start Probabilities: \\n', best_model.startprob_.round(3))\n",
    "\n",
    "first_ball = 'Virat' if states[0] == 0 else 'Rohit'\n",
    "last_ball = 'Virat' if states[-1] == 0 else 'Rohit'\n",
    "\n",
    "print(f'First ball Player: {first_ball}')\n",
    "print(f'Last ball Player: {last_ball}')"
   ]
  }
 ],
 "metadata": {
  "kernelspec": {
   "display_name": "Python 3",
   "language": "python",
   "name": "python3"
  },
  "language_info": {
   "codemirror_mode": {
    "name": "ipython",
    "version": 3
   },
   "file_extension": ".py",
   "mimetype": "text/x-python",
   "name": "python",
   "nbconvert_exporter": "python",
   "pygments_lexer": "ipython3",
   "version": "3.10.12"
  }
 },
 "nbformat": 4,
 "nbformat_minor": 2
}
